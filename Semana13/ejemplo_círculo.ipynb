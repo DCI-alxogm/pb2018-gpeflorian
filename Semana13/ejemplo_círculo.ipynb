{
 "cells": [
  {
   "cell_type": "code",
   "execution_count": 1,
   "metadata": {},
   "outputs": [],
   "source": [
    "##Se declaran las variables que se usarán en el programa\n",
    "import matplotlib.pyplot as plt ## Librería usada para gráficos\n",
    "import numpy as np ##Librería con comandos de arreglos y funciones matemáticas \n",
    "%matplotlib inline"
   ]
  },
  {
   "cell_type": "markdown",
   "metadata": {},
   "source": [
    "Se realiza el ejercicio de círculos"
   ]
  },
  {
   "cell_type": "code",
   "execution_count": 35,
   "metadata": {
    "scrolled": true
   },
   "outputs": [
    {
     "name": "stdout",
     "output_type": "stream",
     "text": [
      "(2, 10)\n"
     ]
    },
    {
     "data": {
      "text/plain": [
       "array([[0.14153864, 0.69974842],\n",
       "       [0.59884818, 0.53213856],\n",
       "       [0.56734218, 0.15250808],\n",
       "       [0.61839657, 0.8196846 ],\n",
       "       [0.40094452, 0.846745  ],\n",
       "       [0.41545405, 0.34243395],\n",
       "       [0.70603294, 0.7577878 ],\n",
       "       [0.71098167, 0.2730619 ],\n",
       "       [0.58777422, 0.21998509],\n",
       "       [0.87447377, 0.41899817]])"
      ]
     },
     "execution_count": 35,
     "metadata": {},
     "output_type": "execute_result"
    },
    {
     "data": {
      "image/png": "[encoded data removed]",
      "text/plain": [
       "<Figure size 432x288 with 1 Axes>"
      ]
     },
     "metadata": {},
     "output_type": "display_data"
    }
   ],
   "source": [
    "i=np.random.rand(10) ##Función np.ramdom indica encoger 10 puntos de forma aleatoria\n",
    "j=np.random.rand(10)\n",
    "plt.scatter(i,j,color=\"purple\") ##Se imprimen 10 puntos dados por coordenadas [i,j]\n",
    "z=np.array([i,j]) ##Guardo coordenadas en arreglos\n",
    "##Hago esto para checar cómo funciona el arreglo \"z\"\n",
    "print (np.shape(z))\n",
    "np.savetxt(\"coordenadas_puntos_scatter.txt\",z)\n",
    "z[0][0]\n",
    "z.T"
   ]
  },
  {
   "cell_type": "markdown",
   "metadata": {},
   "source": [
    "Ciclo for para valores de los ángulos requeridos para formar los círculos"
   ]
  },
  {
   "cell_type": "code",
   "execution_count": 45,
   "metadata": {},
   "outputs": [
    {
     "data": {
      "image/png": "[encoded data removed]",
      "text/plain": [
       "<Figure size 432x288 with 1 Axes>"
      ]
     },
     "metadata": {},
     "output_type": "display_data"
    }
   ],
   "source": [
    "##Este FOR empieza en 0 y termina en 360, ya que i va ir tomando los valores de los ángulos que voy a necesitar (10 en total)\n",
    "for i in range(0,361,36):\n",
    "        y=(0.1*np.sin(i))##Calculo la coordenada polar en \"y\"\n",
    "        x=(0.1*np.cos(i)) ##Calculo la coordenada polar en \"x\"\n",
    "        ##Imprimo las coordenadas de cada punto, los cuales forman un círculo con respecto a su centro \n",
    "        plt.scatter(x,y,color=\"purple\")##Imprimo la gráfica\n",
    "        np.savetxt(\"coordenadas.txt\",[x,y])"
   ]
  },
  {
   "cell_type": "code",
   "execution_count": null,
   "metadata": {},
   "outputs": [],
   "source": []
  }
 ],
 "metadata": {
  "kernelspec": {
   "display_name": "Python 3",
   "language": "python",
   "name": "python3"
  },
  "language_info": {
   "codemirror_mode": {
    "name": "ipython",
    "version": 3
   },
   "file_extension": ".py",
   "mimetype": "text/x-python",
   "name": "python",
   "nbconvert_exporter": "python",
   "pygments_lexer": "ipython3",
   "version": "3.6.6"
  }
 },
 "nbformat": 4,
 "nbformat_minor": 2
}
