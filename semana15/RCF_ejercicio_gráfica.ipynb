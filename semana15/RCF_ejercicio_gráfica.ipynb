{
 "cells": [
  {
   "cell_type": "markdown",
   "metadata": {},
   "source": [
    "Este programa calcula la temperatura de la radiación cósmica microondas, es decir, la energía remanente del Big Band a partir de un document con datosy la grafica. Creado por Guadalupe Florian el 16 de noviembre del 2018."
   ]
  },
  {
   "cell_type": "code",
   "execution_count": 51,
   "metadata": {},
   "outputs": [],
   "source": [
    "##Librería estándar\n",
    "import numpy as np\n",
    "##Libería necesaria para graficar\n",
    "import matplotlib.pyplot as plt\n",
    "##Librería necesaria para usar los valores de las ctes de Planck, Boltzmann y vel de la luz.\n",
    "import scipy.constants as cte\n",
    "\n",
    "%matplotlib inline"
   ]
  },
  {
   "cell_type": "code",
   "execution_count": 52,
   "metadata": {},
   "outputs": [
    {
     "name": "stdout",
     "output_type": "stream",
     "text": [
      "6.62607004e-34 1.38064852e-23 299792458.0\n"
     ]
    }
   ],
   "source": [
    "##Se llaman los valores de las constantes de Boltzmann, Planck y la velocidad de la luz\n",
    "k=cte. Boltzmann\n",
    "h=cte. Planck\n",
    "c=cte. c\n",
    "print(h,k,c)"
   ]
  },
  {
   "cell_type": "code",
   "execution_count": 53,
   "metadata": {},
   "outputs": [],
   "source": [
    "##Se leen los parámetros iniciales de un documento de texto\n",
    "info=np.loadtxt('IRCF.txt')"
   ]
  },
  {
   "cell_type": "code",
   "execution_count": 71,
   "metadata": {},
   "outputs": [],
   "source": [
    "##Se leen los datos de cada columna del documento IRCF.txt\n",
    "i1=info[:,0:1]\n",
    "i2=info[:,1:2]\n",
    "i3=info[:,3:4]"
   ]
  },
  {
   "cell_type": "code",
   "execution_count": 75,
   "metadata": {},
   "outputs": [
    {
     "data": {
      "text/plain": [
       "Text(0.5,1,'Radiación del fondo de microondas')"
      ]
     },
     "execution_count": 75,
     "metadata": {},
     "output_type": "execute_result"
    },
    {
     "data": {
      "image/png": "[encoded data removed]",
      "text/plain": [
       "<Figure size 432x288 with 1 Axes>"
      ]
     },
     "metadata": {},
     "output_type": "display_data"
    }
   ],
   "source": [
    "##Se grafican los datos del documento IRCF.txt, se grafica de color morado\n",
    "plt.errorbar(i1,i2,i3,color=\"purple\")\n",
    "##Se coloca el título de la gráfica\n",
    "plt.title(\"Radiación del fondo de microondas\")"
   ]
  },
  {
   "cell_type": "code",
   "execution_count": 74,
   "metadata": {},
   "outputs": [],
   "source": [
    "##Se define la función de la intensidad (I) de la RCF y se convierte de SI a Jy/s\n",
    "def I(v,T):\n",
    "    z=(((h*(pow(v,3)))/(pow(c,2)))*(1/((np.exp((h*v)/(k*T)))-1)))*(pow(10,26))\n",
    "    return z"
   ]
  },
  {
   "cell_type": "code",
   "execution_count": null,
   "metadata": {},
   "outputs": [],
   "source": []
  },
  {
   "cell_type": "code",
   "execution_count": null,
   "metadata": {},
   "outputs": [],
   "source": []
  }
 ],
 "metadata": {
  "kernelspec": {
   "display_name": "Python 2",
   "language": "python",
   "name": "python2"
  },
  "language_info": {
   "codemirror_mode": {
    "name": "ipython",
    "version": 3
   },
   "file_extension": ".py",
   "mimetype": "text/x-python",
   "name": "python",
   "nbconvert_exporter": "python",
   "pygments_lexer": "ipython3",
   "version": "3.6.6"
  }
 },
 "nbformat": 4,
 "nbformat_minor": 2
}
