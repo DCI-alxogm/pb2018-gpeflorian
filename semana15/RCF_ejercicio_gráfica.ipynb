{
 "cells": [
  {
   "cell_type": "markdown",
   "metadata": {},
   "source": [
    "Este programa calcula la temperatura de la radiación cósmica microondas, es decir, la energía remanente del Big Band a partir de un document con datosy la grafica. Creado por Guadalupe Florian el 16 de noviembre del 2018."
   ]
  },
  {
   "cell_type": "code",
   "execution_count": 197,
   "metadata": {},
   "outputs": [],
   "source": [
    "##Librería estándar\n",
    "import numpy as np\n",
    "##Libería necesaria para graficar\n",
    "import matplotlib.pyplot as plt\n",
    "##Librería necesaria para usar los valores de las ctes de Planck, Boltzmann y vel de la luz.\n",
    "import scipy.constants as cte\n",
    "\n",
    "%matplotlib inline"
   ]
  },
  {
   "cell_type": "code",
   "execution_count": 198,
   "metadata": {},
   "outputs": [
    {
     "name": "stdout",
     "output_type": "stream",
     "text": [
      "6.62607004e-34 1.38064852e-23 299792458.0\n"
     ]
    }
   ],
   "source": [
    "##Se llaman los valores de las constantes de Boltzmann, Planck y la velocidad de la luz\n",
    "k=cte. Boltzmann\n",
    "h=cte. Planck\n",
    "c=cte. c\n",
    "print(h,k,c)"
   ]
  },
  {
   "cell_type": "code",
   "execution_count": 199,
   "metadata": {},
   "outputs": [],
   "source": [
    "##Se leen los parámetros iniciales de un documento de texto\n",
    "info=np.loadtxt('IRCF.txt').T"
   ]
  },
  {
   "cell_type": "code",
   "execution_count": 200,
   "metadata": {
    "scrolled": false
   },
   "outputs": [
    {
     "name": "stdout",
     "output_type": "stream",
     "text": [
      "[ 2.27  2.72  3.18  3.63  4.08  4.54  4.99  5.45  5.9   6.35  6.81  7.26\n",
      "  7.71  8.17  8.62  9.08  9.53  9.98 10.44 10.89 11.34 11.8  12.25 12.71\n",
      " 13.16 13.61 14.07 14.52 14.97 15.43 15.88 16.34 16.79 17.24 17.7  18.15\n",
      " 18.61 19.06 19.51 19.97 20.42 20.87 21.33] [200.723 249.508 293.024 327.77  354.081 372.079 381.493 383.478 378.901\n",
      " 368.833 354.063 336.278 316.076 293.924 271.432 248.239 225.94  204.327\n",
      " 183.262 163.83  145.75  128.835 113.568  99.451  87.036  75.876  65.766\n",
      "  57.008  49.223  42.267  36.352  31.062  26.58   22.644  19.255  16.391\n",
      "  13.811  11.716   9.921   8.364   7.087   5.801   4.523] [0.014 0.019 0.025 0.023 0.022 0.021 0.018 0.018 0.016 0.014 0.013 0.012\n",
      " 0.011 0.01  0.011 0.012 0.014 0.016 0.018 0.022 0.022 0.023 0.023 0.023\n",
      " 0.022 0.021 0.02  0.019 0.019 0.019 0.021 0.023 0.026 0.028 0.03  0.032\n",
      " 0.033 0.035 0.041 0.055 0.088 0.155 0.282]\n"
     ]
    }
   ],
   "source": [
    "##Se leen los datos de cada columna del documento IRCF.txt\n",
    "Frecuencia=info[0]\n",
    "Espectro=info[1]\n",
    "##Convierto Megas en Kilo Jankys\n",
    "Incertidumbre=info[3]\n",
    "Incertidumbre*=1e-3\n",
    "print (Frecuencia,Espectro,Incertidumbre)"
   ]
  },
  {
   "cell_type": "code",
   "execution_count": 201,
   "metadata": {
    "scrolled": true
   },
   "outputs": [
    {
     "data": {
      "text/plain": [
       "Text(0,0.5,'Espectro (MJy/sr)')"
      ]
     },
     "execution_count": 201,
     "metadata": {},
     "output_type": "execute_result"
    },
    {
     "data": {
      "image/png": "[encoded data removed]",
      "text/plain": [
       "<Figure size 432x288 with 1 Axes>"
      ]
     },
     "metadata": {},
     "output_type": "display_data"
    }
   ],
   "source": [
    "##Se grafican los datos del documento IRCF.txt, se grafica de color morado\n",
    "plt.errorbar(Frecuencia,Espectro,yerr=Incertidumbre)\n",
    "##Nombro a mis coordenadas (x,y) y mi gráfica\n",
    "plt.title ('Radiación de fondo de microondas') \n",
    "plt.xlabel('Frecuencia (cm^-1)') \n",
    "plt.ylabel('Espectro (MJy/sr)')\n",
    "##Se coloca el título de la gráfica\n",
    "##plt.title(\"Radiación del fondo de microondas\")"
   ]
  },
  {
   "cell_type": "code",
   "execution_count": 202,
   "metadata": {},
   "outputs": [],
   "source": [
    "a=0"
   ]
  },
  {
   "cell_type": "code",
   "execution_count": 203,
   "metadata": {},
   "outputs": [],
   "source": [
    "##Se define la función de la intensidad (I) de la RCF y se convierte de SI a Jy/s\n",
    "def I(v,T):\n",
    "    v*=(c*100)\n",
    "    z=((h*(pow(v,3)))/(pow(c,2)))\n",
    "    x=(np.exp((h*v)/(k*T)))\n",
    "    y=(1/(x-1))*(pow(10,))\n",
    "   \n",
    "    w=z*y\n",
    "    return w    "
   ]
  },
  {
   "cell_type": "code",
   "execution_count": 204,
   "metadata": {
    "scrolled": false
   },
   "outputs": [
    {
     "ename": "NameError",
     "evalue": "name 'f' is not defined",
     "output_type": "error",
     "traceback": [
      "\u001b[0;31m---------------------------------------------------------------------------\u001b[0m",
      "\u001b[0;31mNameError\u001b[0m                                 Traceback (most recent call last)",
      "\u001b[0;32m<ipython-input-204-8dae69078507>\u001b[0m in \u001b[0;36m<module>\u001b[0;34m()\u001b[0m\n\u001b[1;32m     12\u001b[0m \u001b[0;32mfor\u001b[0m \u001b[0mi\u001b[0m \u001b[0;32min\u001b[0m \u001b[0mrange\u001b[0m\u001b[0;34m(\u001b[0m\u001b[0mlen\u001b[0m\u001b[0;34m(\u001b[0m\u001b[0mT\u001b[0m\u001b[0;34m)\u001b[0m\u001b[0;34m)\u001b[0m\u001b[0;34m:\u001b[0m\u001b[0;34m\u001b[0m\u001b[0m\n\u001b[1;32m     13\u001b[0m     \u001b[0mx\u001b[0m\u001b[0;34m=\u001b[0m\u001b[0;36m0\u001b[0m\u001b[0;34m\u001b[0m\u001b[0m\n\u001b[0;32m---> 14\u001b[0;31m     \u001b[0mo\u001b[0m\u001b[0;34m=\u001b[0m\u001b[0mI\u001b[0m\u001b[0;34m(\u001b[0m\u001b[0mFrecuencia\u001b[0m\u001b[0;34m,\u001b[0m\u001b[0mT\u001b[0m\u001b[0;34m[\u001b[0m\u001b[0mi\u001b[0m\u001b[0;34m]\u001b[0m\u001b[0;34m)\u001b[0m\u001b[0;34m\u001b[0m\u001b[0m\n\u001b[0m\u001b[1;32m     15\u001b[0m \u001b[0;34m\u001b[0m\u001b[0m\n\u001b[1;32m     16\u001b[0m     \u001b[0;32mfor\u001b[0m \u001b[0mj\u001b[0m \u001b[0;32min\u001b[0m \u001b[0mrange\u001b[0m \u001b[0;34m(\u001b[0m\u001b[0mlen\u001b[0m\u001b[0;34m(\u001b[0m\u001b[0mIncertidumbre\u001b[0m\u001b[0;34m)\u001b[0m\u001b[0;34m)\u001b[0m\u001b[0;34m:\u001b[0m\u001b[0;34m\u001b[0m\u001b[0m\n",
      "\u001b[0;32m<ipython-input-203-2826b135cffe>\u001b[0m in \u001b[0;36mI\u001b[0;34m(Frecuencia, T)\u001b[0m\n\u001b[1;32m      2\u001b[0m \u001b[0;32mdef\u001b[0m \u001b[0mI\u001b[0m\u001b[0;34m(\u001b[0m\u001b[0mFrecuencia\u001b[0m\u001b[0;34m,\u001b[0m\u001b[0mT\u001b[0m\u001b[0;34m)\u001b[0m\u001b[0;34m:\u001b[0m\u001b[0;34m\u001b[0m\u001b[0m\n\u001b[1;32m      3\u001b[0m     \u001b[0mFrecuencia\u001b[0m\u001b[0;34m*=\u001b[0m\u001b[0;34m(\u001b[0m\u001b[0mc\u001b[0m\u001b[0;34m*\u001b[0m\u001b[0;36m100\u001b[0m\u001b[0;34m)\u001b[0m\u001b[0;34m\u001b[0m\u001b[0m\n\u001b[0;32m----> 4\u001b[0;31m     \u001b[0;32mreturn\u001b[0m \u001b[0;34m(\u001b[0m\u001b[0;34m(\u001b[0m\u001b[0mh\u001b[0m\u001b[0;34m*\u001b[0m\u001b[0mpow\u001b[0m\u001b[0;34m(\u001b[0m\u001b[0mFrecuencia\u001b[0m\u001b[0;34m,\u001b[0m\u001b[0;36m3\u001b[0m\u001b[0;34m)\u001b[0m\u001b[0;34m)\u001b[0m\u001b[0;34m)\u001b[0m\u001b[0;34m/\u001b[0m\u001b[0;34m(\u001b[0m\u001b[0mpow\u001b[0m\u001b[0;34m(\u001b[0m\u001b[0mc\u001b[0m\u001b[0;34m,\u001b[0m\u001b[0;36m2\u001b[0m\u001b[0;34m)\u001b[0m\u001b[0;34m)\u001b[0m\u001b[0;34m*\u001b[0m\u001b[0;34m(\u001b[0m\u001b[0;36m1\u001b[0m\u001b[0;34m/\u001b[0m\u001b[0;34m(\u001b[0m\u001b[0;34m(\u001b[0m\u001b[0mnp\u001b[0m\u001b[0;34m.\u001b[0m\u001b[0mexp\u001b[0m\u001b[0;34m(\u001b[0m\u001b[0;34m(\u001b[0m\u001b[0mh\u001b[0m\u001b[0;34m*\u001b[0m\u001b[0mf\u001b[0m\u001b[0;34m)\u001b[0m\u001b[0;34m/\u001b[0m\u001b[0;34m(\u001b[0m\u001b[0mk\u001b[0m\u001b[0;34m*\u001b[0m\u001b[0mT\u001b[0m\u001b[0;34m)\u001b[0m\u001b[0;34m)\u001b[0m\u001b[0;34m)\u001b[0m\u001b[0;34m-\u001b[0m\u001b[0;36m1\u001b[0m\u001b[0;34m)\u001b[0m\u001b[0;34m)\u001b[0m\u001b[0;34m*\u001b[0m\u001b[0;34m(\u001b[0m\u001b[0;36m10\u001b[0m\u001b[0;34m**\u001b[0m\u001b[0;36m20\u001b[0m\u001b[0;34m)\u001b[0m\u001b[0;34m\u001b[0m\u001b[0m\n\u001b[0m",
      "\u001b[0;31mNameError\u001b[0m: name 'f' is not defined"
     ]
    }
   ],
   "source": [
    "#Hago un arreglo de la temperatura para que lo pueda evaluar de 1 a 5 kelvin\n",
    "T=np.linspace(1,5,1000000)\n",
    "#las variables x son para el error\n",
    "x=0\n",
    "xg=4000\n",
    "#inicializo la temperatura del universo a 0\n",
    "treal=0\n",
    "y=np.linspace(0,0,len(Incertidumbre))\n",
    "#g lo utilizo para graficar los errores\n",
    "error=np.linspace(0,0,len(Incertidumbre))\n",
    "\n",
    "for i in range(len(T)):\n",
    "    x=0\n",
    "    o=I(Frecuencia,T[i])\n",
    "    \n",
    "    for j in range (len(Incertidumbre)):\n",
    "        error[j]=((o[j]-o[j])/Incertidumbre[j])**2\n",
    "        x=x+error[j]\n",
    "        \n",
    "    if (x<xg):\n",
    "        xg=x\n",
    "        treal=T[i]\n",
    "        \n",
    "    if (i%100==0):\n",
    "        plt.plot(Frecuencia,o)\n"
   ]
  },
  {
   "cell_type": "code",
   "execution_count": 205,
   "metadata": {},
   "outputs": [
    {
     "data": {
      "text/plain": [
       "<ErrorbarContainer object of 3 artists>"
      ]
     },
     "execution_count": 205,
     "metadata": {},
     "output_type": "execute_result"
    },
    {
     "data": {
      "image/png": "[encoded data removed]",
      "text/plain": [
       "<Figure size 432x288 with 1 Axes>"
      ]
     },
     "metadata": {},
     "output_type": "display_data"
    }
   ],
   "source": [
    "plt.errorbar(Frecuencia,o)"
   ]
  },
  {
   "cell_type": "code",
   "execution_count": null,
   "metadata": {},
   "outputs": [],
   "source": []
  },
  {
   "cell_type": "code",
   "execution_count": null,
   "metadata": {},
   "outputs": [],
   "source": []
  },
  {
   "cell_type": "code",
   "execution_count": null,
   "metadata": {},
   "outputs": [],
   "source": []
  }
 ],
 "metadata": {
  "kernelspec": {
   "display_name": "Python 2",
   "language": "python",
   "name": "python2"
  },
  "language_info": {
   "codemirror_mode": {
    "name": "ipython",
    "version": 3
   },
   "file_extension": ".py",
   "mimetype": "text/x-python",
   "name": "python",
   "nbconvert_exporter": "python",
   "pygments_lexer": "ipython3",
   "version": "3.6.6"
  }
 },
 "nbformat": 4,
 "nbformat_minor": 2
}
