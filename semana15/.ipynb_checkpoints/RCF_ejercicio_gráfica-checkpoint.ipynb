{
 "cells": [
  {
   "cell_type": "markdown",
   "metadata": {},
   "source": [
    "Este programa calcula la temperatura de la radiación cósmica microondas, es decir, la energía remanente del Big Band a partir de un document con datosy la grafica. Creado por Guadalupe Florian el 16 de noviembre del 2018."
   ]
  },
  {
   "cell_type": "code",
   "execution_count": 20,
   "metadata": {},
   "outputs": [],
   "source": [
    "##Librería estándar\n",
    "import numpy as np\n",
    "##Libería necesaria para graficar\n",
    "import matplotlib.pyplot as plt\n",
    "##Librería necesaria para usar los valores de las ctes de Planck, Boltzmann y vel de la luz.\n",
    "import scipy.constants as cte\n",
    "\n",
    "%matplotlib inline"
   ]
  },
  {
   "cell_type": "code",
   "execution_count": 21,
   "metadata": {},
   "outputs": [
    {
     "name": "stdout",
     "output_type": "stream",
     "text": [
      "(6.62607004e-34, 1.38064852e-23, 299792458.0)\n"
     ]
    }
   ],
   "source": [
    "##Se llaman los valores de las constantes de Boltzmann, Planck y la velocidad de la luz\n",
    "k=cte. Boltzmann\n",
    "h=cte. Planck\n",
    "c=cte. c\n",
    "print(h,k,c)"
   ]
  },
  {
   "cell_type": "code",
   "execution_count": 22,
   "metadata": {},
   "outputs": [],
   "source": [
    "##Se leen los parámetros iniciales de un documento de texto\n",
    "info=np.loadtxt('IRCF.txt').T"
   ]
  },
  {
   "cell_type": "code",
   "execution_count": 36,
   "metadata": {},
   "outputs": [
    {
     "name": "stdout",
     "output_type": "stream",
     "text": [
      "(array([3.87622456e+15, 4.64463912e+15, 5.43012956e+15, 6.19854412e+15,\n",
      "       6.96695868e+15, 7.75244912e+15, 8.52086368e+15, 9.30635412e+15,\n",
      "       1.00747687e+16, 1.08431832e+16, 1.16286737e+16, 1.23970882e+16,\n",
      "       1.31655028e+16, 1.39509932e+16, 1.47194078e+16, 1.55048982e+16,\n",
      "       1.62733128e+16, 1.70417274e+16, 1.78272178e+16, 1.85956324e+16,\n",
      "       1.93640469e+16, 2.01495374e+16, 2.09179519e+16, 2.17034424e+16,\n",
      "       2.24718569e+16, 2.32402715e+16, 2.40257619e+16, 2.47941765e+16,\n",
      "       2.55625910e+16, 2.63480815e+16, 2.71164960e+16, 2.79019865e+16,\n",
      "       2.86704010e+16, 2.94388156e+16, 3.02243060e+16, 3.09927206e+16,\n",
      "       3.17782110e+16, 3.25466256e+16, 3.33150401e+16, 3.41005306e+16,\n",
      "       3.48689451e+16, 3.56373597e+16, 3.64228501e+16]), array([200.723, 249.508, 293.024, 327.77 , 354.081, 372.079, 381.493,\n",
      "       383.478, 378.901, 368.833, 354.063, 336.278, 316.076, 293.924,\n",
      "       271.432, 248.239, 225.94 , 204.327, 183.262, 163.83 , 145.75 ,\n",
      "       128.835, 113.568,  99.451,  87.036,  75.876,  65.766,  57.008,\n",
      "        49.223,  42.267,  36.352,  31.062,  26.58 ,  22.644,  19.255,\n",
      "        16.391,  13.811,  11.716,   9.921,   8.364,   7.087,   5.801,\n",
      "         4.523]), array([ 14.,  19.,  25.,  23.,  22.,  21.,  18.,  18.,  16.,  14.,  13.,\n",
      "        12.,  11.,  10.,  11.,  12.,  14.,  16.,  18.,  22.,  22.,  23.,\n",
      "        23.,  23.,  22.,  21.,  20.,  19.,  19.,  19.,  21.,  23.,  26.,\n",
      "        28.,  30.,  32.,  33.,  35.,  41.,  55.,  88., 155., 282.]))\n"
     ]
    }
   ],
   "source": [
    "##Se leen los datos de cada columna del documento IRCF.txt\n",
    "Frecuencia=info[0]\n",
    "Espectro=info[1]\n",
    "Incertidumbre=info[3]\n",
    "print (Frecuencia,Espectro,Incertidumbre)"
   ]
  },
  {
   "cell_type": "code",
   "execution_count": 37,
   "metadata": {},
   "outputs": [
    {
     "data": {
      "text/plain": [
       "<ErrorbarContainer object of 3 artists>"
      ]
     },
     "execution_count": 37,
     "metadata": {},
     "output_type": "execute_result"
    },
    {
     "data": {
      "image/png": "[encoded data removed]",
      "text/plain": [
       "<Figure size 432x288 with 1 Axes>"
      ]
     },
     "metadata": {},
     "output_type": "display_data"
    }
   ],
   "source": [
    "##Se grafican los datos del documento IRCF.txt, se grafica de color morado\n",
    "plt.errorbar(Frecuencia,Espectro,yerr=Incertidumbre)\n",
    "##Se coloca el título de la gráfica\n",
    "##plt.title(\"Radiación del fondo de microondas\")"
   ]
  },
  {
   "cell_type": "code",
   "execution_count": 39,
   "metadata": {},
   "outputs": [],
   "source": [
    "a=0"
   ]
  },
  {
   "cell_type": "code",
   "execution_count": 62,
   "metadata": {},
   "outputs": [],
   "source": [
    "##Se define la función de la intensidad (I) de la RCF y se convierte de SI a Jy/s\n",
    "def I(v,T):\n",
    "    v*=c\n",
    "    z=((h*(pow(v,3)))/(pow(c,2)))\n",
    "    x=(np.exp((h*v)/(k*T)))\n",
    "    y=(1/(x-1))*(pow(10,-26))\n",
    "   \n",
    "    w=z*y\n",
    "    return w                     "
   ]
  },
  {
   "cell_type": "code",
   "execution_count": 64,
   "metadata": {},
   "outputs": [
    {
     "name": "stdout",
     "output_type": "stream",
     "text": [
      "[nan nan nan nan nan nan nan nan nan nan nan nan nan nan nan nan nan nan\n",
      " nan nan nan nan nan nan nan nan nan nan nan nan nan nan nan nan nan nan\n",
      " nan nan nan nan nan nan nan]\n",
      "[nan nan nan nan nan nan nan nan nan nan nan nan nan nan nan nan nan nan\n",
      " nan nan nan nan nan nan nan nan nan nan nan nan nan nan nan nan nan nan\n",
      " nan nan nan nan nan nan nan]\n",
      "[nan nan nan nan nan nan nan nan nan nan nan nan nan nan nan nan nan nan\n",
      " nan nan nan nan nan nan nan nan nan nan nan nan nan nan nan nan nan nan\n",
      " nan nan nan nan nan nan nan]\n",
      "[nan nan nan nan nan nan nan nan nan nan nan nan nan nan nan nan nan nan\n",
      " nan nan nan nan nan nan nan nan nan nan nan nan nan nan nan nan nan nan\n",
      " nan nan nan nan nan nan nan]\n",
      "[nan nan nan nan nan nan nan nan nan nan nan nan nan nan nan nan nan nan\n",
      " nan nan nan nan nan nan nan nan nan nan nan nan nan nan nan nan nan nan\n",
      " nan nan nan nan nan nan nan]\n",
      "[nan nan nan nan nan nan nan nan nan nan nan nan nan nan nan nan nan nan\n",
      " nan nan nan nan nan nan nan nan nan nan nan nan nan nan nan nan nan nan\n",
      " nan nan nan nan nan nan nan]\n",
      "[nan nan nan nan nan nan nan nan nan nan nan nan nan nan nan nan nan nan\n",
      " nan nan nan nan nan nan nan nan nan nan nan nan nan nan nan nan nan nan\n",
      " nan nan nan nan nan nan nan]\n",
      "[nan nan nan nan nan nan nan nan nan nan nan nan nan nan nan nan nan nan\n",
      " nan nan nan nan nan nan nan nan nan nan nan nan nan nan nan nan nan nan\n",
      " nan nan nan nan nan nan nan]\n",
      "[nan nan nan nan nan nan nan nan nan nan nan nan nan nan nan nan nan nan\n",
      " nan nan nan nan nan nan nan nan nan nan nan nan nan nan nan nan nan nan\n",
      " nan nan nan nan nan nan nan]\n",
      "[nan nan nan nan nan nan nan nan nan nan nan nan nan nan nan nan nan nan\n",
      " nan nan nan nan nan nan nan nan nan nan nan nan nan nan nan nan nan nan\n",
      " nan nan nan nan nan nan nan]\n"
     ]
    },
    {
     "name": "stderr",
     "output_type": "stream",
     "text": [
      "/usr/lib/python2.7/site-packages/ipykernel_launcher.py:8: RuntimeWarning: invalid value encountered in multiply\n",
      "  \n"
     ]
    }
   ],
   "source": [
    "T=np.linspace(1,10,100)\n",
    "for i in range (10):\n",
    "    res=I(Frecuencia,T[i])\n",
    "    print (res)"
   ]
  },
  {
   "cell_type": "code",
   "execution_count": 56,
   "metadata": {},
   "outputs": [
    {
     "data": {
      "text/plain": [
       "<ErrorbarContainer object of 3 artists>"
      ]
     },
     "execution_count": 56,
     "metadata": {},
     "output_type": "execute_result"
    },
    {
     "data": {
      "image/png": "[encoded data removed]",
      "text/plain": [
       "<Figure size 432x288 with 1 Axes>"
      ]
     },
     "metadata": {},
     "output_type": "display_data"
    }
   ],
   "source": [
    "plt.errorbar(Frecuencia,res)"
   ]
  },
  {
   "cell_type": "code",
   "execution_count": null,
   "metadata": {},
   "outputs": [],
   "source": []
  }
 ],
 "metadata": {
  "kernelspec": {
   "display_name": "Python 2",
   "language": "python",
   "name": "python2"
  },
  "language_info": {
   "codemirror_mode": {
    "name": "ipython",
    "version": 3
   },
   "file_extension": ".py",
   "mimetype": "text/x-python",
   "name": "python",
   "nbconvert_exporter": "python",
   "pygments_lexer": "ipython3",
   "version": "3.6.6"
  }
 },
 "nbformat": 4,
 "nbformat_minor": 2
}
